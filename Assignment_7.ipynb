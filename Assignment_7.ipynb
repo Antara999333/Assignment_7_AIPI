{
  "cells": [
    {
      "cell_type": "markdown",
      "metadata": {
        "id": "view-in-github",
        "colab_type": "text"
      },
      "source": [
        "<a href=\"https://colab.research.google.com/github/Antara999333/Assignment_7_AIPI/blob/main/Assignment_7.ipynb\" target=\"_parent\"><img src=\"https://colab.research.google.com/assets/colab-badge.svg\" alt=\"Open In Colab\"/></a>"
      ]
    },
    {
      "cell_type": "markdown",
      "source": [
        "# Hypothesis\n",
        "\n",
        "I have used a dataset that contains information related to wine quality and my hypothesis is as follows:\n",
        "\n",
        "Null Hypothesis (H0): There is no significant difference in the integrated gradients attributions of the neural network model for the features \"alcohol content\" and \"citric acid\" in predicting wine quality.\n",
        "\n",
        "Alternative Hypothesis (H1): There is a significant difference in the integrated gradients attributions of the neural network model for the features \"alcohol content\" and \"citric acid\" in predicting wine quality.\n"
      ],
      "metadata": {
        "id": "Y40rr-TthRV0"
      }
    },
    {
      "cell_type": "code",
      "source": [
        "# Please use this to connect your GitHub repository to your Google Colab notebook\n",
        "# Connects to any needed files from GitHub and Google Drive\n",
        "import os\n",
        "\n",
        "# Remove Colab default sample_data\n",
        "!rm -r ./sample_data\n",
        "\n",
        "# Clone GitHub files to colab workspace\n",
        "repo_name = \"Assignment_7_AIPI\"  # Change to your repo name\n",
        "git_path = 'https://github.com/Antara999333/Assignment_7_AIPI.git'  # Change to your path\n",
        "!git clone \"{git_path}\"\n",
        "\n",
        "# Install dependencies from requirements.txt file\n",
        "#!pip install -r \"{os.path.join(repo_name,'requirements.txt')}\" #Add if using requirements.txt\n",
        "\n",
        "# Change working directory to location of notebook\n",
        "notebook_dir = 'templates'  # Change this if your notebook is in a different folder\n",
        "path_to_notebook = os.path.join(repo_name, notebook_dir)\n",
        "%cd \"{path_to_notebook}\"\n",
        "%ls\n"
      ],
      "metadata": {
        "colab": {
          "base_uri": "https://localhost:8080/"
        },
        "id": "lgkbPBbRqYMB",
        "outputId": "7e5b3ac4-1f6b-47cf-9830-14f6d83a2f75"
      },
      "execution_count": 1,
      "outputs": [
        {
          "output_type": "stream",
          "name": "stdout",
          "text": [
            "Cloning into 'Assignment_7_AIPI'...\n",
            "remote: Enumerating objects: 6, done.\u001b[K\n",
            "remote: Counting objects: 100% (6/6), done.\u001b[K\n",
            "remote: Compressing objects: 100% (4/4), done.\u001b[K\n",
            "remote: Total 6 (delta 0), reused 0 (delta 0), pack-reused 0 (from 0)\u001b[K\n",
            "Receiving objects: 100% (6/6), 2.58 MiB | 5.31 MiB/s, done.\n",
            "[Errno 2] No such file or directory: 'Assignment_7_AIPI/templates'\n",
            "/content\n",
            "\u001b[0m\u001b[01;34mAssignment_7_AIPI\u001b[0m/\n"
          ]
        }
      ]
    },
    {
      "cell_type": "code",
      "source": [
        "import pandas as pd\n",
        "from sklearn.model_selection import train_test_split\n",
        "from sklearn.preprocessing import StandardScaler\n",
        "import torch\n",
        "import torch.nn as nn\n",
        "import torch.optim as optim\n",
        "from torch.utils.data import DataLoader, TensorDataset\n",
        "\n",
        "\n",
        "url = \"https://archive.ics.uci.edu/ml/machine-learning-databases/wine-quality/winequality-red.csv\"\n",
        "data = pd.read_csv(url, delimiter=';')\n",
        "\n",
        "# Splitting the data\n",
        "features = data.drop(columns=['quality']).values\n",
        "labels = data['quality'].values\n",
        "train_features, val_features, train_labels, val_labels = train_test_split(features, labels, test_size=0.2)\n",
        "\n",
        "\n",
        "scaler = StandardScaler()\n",
        "train_features = scaler.fit_transform(train_features)\n",
        "val_features = scaler.transform(val_features)\n",
        "\n",
        "# Converting to tensors\n",
        "train_features = torch.tensor(train_features, dtype=torch.float32)\n",
        "val_features = torch.tensor(val_features, dtype=torch.float32)\n",
        "train_labels = torch.tensor(train_labels, dtype=torch.long)\n",
        "val_labels = torch.tensor(val_labels, dtype=torch.long)\n"
      ],
      "metadata": {
        "id": "jtcSv7GhSlQE"
      },
      "execution_count": null,
      "outputs": []
    },
    {
      "cell_type": "code",
      "source": [
        "class WineQualityModel(nn.Module):\n",
        "    def __init__(self, input_dim):\n",
        "        super(WineQualityModel, self).__init__()\n",
        "        self.layer1 = nn.Linear(input_dim, 64)\n",
        "        self.layer2 = nn.Linear(64, 32)\n",
        "        self.layer3 = nn.Linear(32, 10)  # 10 classes for wine quality ratings 0-9\n",
        "\n",
        "    def forward(self, x):\n",
        "        x = torch.relu(self.layer1(x))\n",
        "        x = torch.relu(self.layer2(x))\n",
        "        x = self.layer3(x)\n",
        "        return x\n",
        "\n",
        "input_dim = train_features.shape[1]\n",
        "model = WineQualityModel(input_dim)\n",
        "\n",
        "criterion = nn.CrossEntropyLoss()\n",
        "optimizer = optim.Adam(model.parameters(), lr=0.001)\n",
        "\n",
        "train_dataset = TensorDataset(train_features, train_labels)\n",
        "train_loader = DataLoader(train_dataset, batch_size=32, shuffle=True)\n",
        "\n",
        "val_dataset = TensorDataset(val_features, val_labels)\n",
        "val_loader = DataLoader(val_dataset, batch_size=32, shuffle=False)\n",
        "\n",
        "# Training\n",
        "for epoch in range(50):\n",
        "    model.train()\n",
        "    for features, labels in train_loader:\n",
        "        optimizer.zero_grad()\n",
        "        outputs = model(features)\n",
        "        loss = criterion(outputs, labels)\n",
        "        loss.backward()\n",
        "        optimizer.step()\n",
        "\n",
        "    model.eval()\n",
        "    val_loss = 0\n",
        "    correct = 0\n",
        "    with torch.no_grad():\n",
        "        for features, labels in val_loader:\n",
        "            outputs = model(features)\n",
        "            val_loss += criterion(outputs, labels).item()\n",
        "            preds = outputs.argmax(dim=1)\n",
        "            correct += (preds == labels).sum().item()\n",
        "    val_loss /= len(val_loader)\n",
        "    accuracy = correct / len(val_loader.dataset)\n",
        "    print(f'Epoch {epoch+1}, Val Loss: {val_loss:.4f}, Accuracy: {accuracy:.4f}')\n"
      ],
      "metadata": {
        "id": "PE4qRHfxSro1",
        "outputId": "3ebd7730-cfbb-4249-8151-05405d23ea2c",
        "colab": {
          "base_uri": "https://localhost:8080/"
        }
      },
      "execution_count": null,
      "outputs": [
        {
          "output_type": "stream",
          "name": "stdout",
          "text": [
            "Epoch 1, Val Loss: 1.6139, Accuracy: 0.4719\n",
            "Epoch 2, Val Loss: 1.1279, Accuracy: 0.5375\n",
            "Epoch 3, Val Loss: 1.0231, Accuracy: 0.5781\n",
            "Epoch 4, Val Loss: 0.9946, Accuracy: 0.5844\n",
            "Epoch 5, Val Loss: 0.9769, Accuracy: 0.5750\n",
            "Epoch 6, Val Loss: 0.9642, Accuracy: 0.5750\n",
            "Epoch 7, Val Loss: 0.9669, Accuracy: 0.6125\n",
            "Epoch 8, Val Loss: 0.9582, Accuracy: 0.5906\n",
            "Epoch 9, Val Loss: 0.9488, Accuracy: 0.5875\n",
            "Epoch 10, Val Loss: 0.9497, Accuracy: 0.6156\n",
            "Epoch 11, Val Loss: 0.9466, Accuracy: 0.6219\n",
            "Epoch 12, Val Loss: 0.9464, Accuracy: 0.6031\n",
            "Epoch 13, Val Loss: 0.9413, Accuracy: 0.5969\n",
            "Epoch 14, Val Loss: 0.9413, Accuracy: 0.6219\n",
            "Epoch 15, Val Loss: 0.9389, Accuracy: 0.6062\n",
            "Epoch 16, Val Loss: 0.9401, Accuracy: 0.6094\n",
            "Epoch 17, Val Loss: 0.9428, Accuracy: 0.6094\n",
            "Epoch 18, Val Loss: 0.9402, Accuracy: 0.6281\n",
            "Epoch 19, Val Loss: 0.9419, Accuracy: 0.6344\n",
            "Epoch 20, Val Loss: 0.9355, Accuracy: 0.6344\n",
            "Epoch 21, Val Loss: 0.9416, Accuracy: 0.6250\n",
            "Epoch 22, Val Loss: 0.9397, Accuracy: 0.6250\n",
            "Epoch 23, Val Loss: 0.9529, Accuracy: 0.6344\n",
            "Epoch 24, Val Loss: 0.9491, Accuracy: 0.6406\n",
            "Epoch 25, Val Loss: 0.9445, Accuracy: 0.6375\n",
            "Epoch 26, Val Loss: 0.9386, Accuracy: 0.6250\n",
            "Epoch 27, Val Loss: 0.9402, Accuracy: 0.6250\n",
            "Epoch 28, Val Loss: 0.9384, Accuracy: 0.6281\n",
            "Epoch 29, Val Loss: 0.9343, Accuracy: 0.6531\n",
            "Epoch 30, Val Loss: 0.9422, Accuracy: 0.6281\n",
            "Epoch 31, Val Loss: 0.9477, Accuracy: 0.6250\n",
            "Epoch 32, Val Loss: 0.9371, Accuracy: 0.6281\n",
            "Epoch 33, Val Loss: 0.9372, Accuracy: 0.6312\n",
            "Epoch 34, Val Loss: 0.9368, Accuracy: 0.6406\n",
            "Epoch 35, Val Loss: 0.9469, Accuracy: 0.6312\n",
            "Epoch 36, Val Loss: 0.9433, Accuracy: 0.6312\n",
            "Epoch 37, Val Loss: 0.9453, Accuracy: 0.6344\n",
            "Epoch 38, Val Loss: 0.9391, Accuracy: 0.6562\n",
            "Epoch 39, Val Loss: 0.9470, Accuracy: 0.6219\n",
            "Epoch 40, Val Loss: 0.9522, Accuracy: 0.6469\n",
            "Epoch 41, Val Loss: 0.9655, Accuracy: 0.6312\n",
            "Epoch 42, Val Loss: 0.9446, Accuracy: 0.6312\n",
            "Epoch 43, Val Loss: 0.9465, Accuracy: 0.6531\n",
            "Epoch 44, Val Loss: 0.9438, Accuracy: 0.6312\n",
            "Epoch 45, Val Loss: 0.9490, Accuracy: 0.6469\n",
            "Epoch 46, Val Loss: 0.9579, Accuracy: 0.6156\n",
            "Epoch 47, Val Loss: 0.9523, Accuracy: 0.6281\n",
            "Epoch 48, Val Loss: 0.9502, Accuracy: 0.6375\n",
            "Epoch 49, Val Loss: 0.9495, Accuracy: 0.6375\n",
            "Epoch 50, Val Loss: 0.9406, Accuracy: 0.6406\n"
          ]
        }
      ]
    },
    {
      "cell_type": "code",
      "source": [
        "\n",
        "!pip install captum\n",
        "\n",
        "from captum.attr import IntegratedGradients\n",
        "import torch\n",
        "\n",
        "def compute_integrated_gradients(model, inputs, baseline, target):\n",
        "    ig = IntegratedGradients(model)\n",
        "    attributions = ig.attribute(inputs, baselines=baseline, target=target)\n",
        "    return attributions\n",
        "\n",
        "\n",
        "# Select a sample input and baseline\n",
        "sample_input = val_features[0:1]\n",
        "baseline_input = torch.zeros_like(sample_input)\n",
        "\n",
        "# Compute attributions for \"alcohol content\" and \"citric acid\"\n",
        "alcohol_index = data.columns.get_loc(\"alcohol\")\n",
        "citric_acid_index = data.columns.get_loc(\"citric acid\")\n",
        "\n",
        "model.eval()\n",
        "attributions = compute_integrated_gradients(model, sample_input, baseline_input, target=2)  # Assuming target is class 2\n",
        "\n",
        "alcohol_attribution = attributions[0, alcohol_index].item()\n",
        "citric_acid_attribution = attributions[0, citric_acid_index].item()\n",
        "\n",
        "print(f\"Alcohol Attribution: {alcohol_attribution:.4f}\")\n",
        "print(f\"Citric Acid Attribution: {citric_acid_attribution:.4f}\")\n"
      ],
      "metadata": {
        "id": "1ZSjSrH2SxUO",
        "outputId": "bf2e5a8a-811d-4408-f0a5-b41afa047d0c",
        "colab": {
          "base_uri": "https://localhost:8080/"
        }
      },
      "execution_count": null,
      "outputs": [
        {
          "output_type": "stream",
          "name": "stdout",
          "text": [
            "Collecting captum\n",
            "  Downloading captum-0.7.0-py3-none-any.whl.metadata (26 kB)\n",
            "Requirement already satisfied: matplotlib in /usr/local/lib/python3.10/dist-packages (from captum) (3.7.1)\n",
            "Requirement already satisfied: numpy in /usr/local/lib/python3.10/dist-packages (from captum) (1.26.4)\n",
            "Requirement already satisfied: torch>=1.6 in /usr/local/lib/python3.10/dist-packages (from captum) (2.5.0+cu121)\n",
            "Requirement already satisfied: tqdm in /usr/local/lib/python3.10/dist-packages (from captum) (4.66.5)\n",
            "Requirement already satisfied: filelock in /usr/local/lib/python3.10/dist-packages (from torch>=1.6->captum) (3.16.1)\n",
            "Requirement already satisfied: typing-extensions>=4.8.0 in /usr/local/lib/python3.10/dist-packages (from torch>=1.6->captum) (4.12.2)\n",
            "Requirement already satisfied: networkx in /usr/local/lib/python3.10/dist-packages (from torch>=1.6->captum) (3.4.2)\n",
            "Requirement already satisfied: jinja2 in /usr/local/lib/python3.10/dist-packages (from torch>=1.6->captum) (3.1.4)\n",
            "Requirement already satisfied: fsspec in /usr/local/lib/python3.10/dist-packages (from torch>=1.6->captum) (2024.6.1)\n",
            "Requirement already satisfied: sympy==1.13.1 in /usr/local/lib/python3.10/dist-packages (from torch>=1.6->captum) (1.13.1)\n",
            "Requirement already satisfied: mpmath<1.4,>=1.1.0 in /usr/local/lib/python3.10/dist-packages (from sympy==1.13.1->torch>=1.6->captum) (1.3.0)\n",
            "Requirement already satisfied: contourpy>=1.0.1 in /usr/local/lib/python3.10/dist-packages (from matplotlib->captum) (1.3.0)\n",
            "Requirement already satisfied: cycler>=0.10 in /usr/local/lib/python3.10/dist-packages (from matplotlib->captum) (0.12.1)\n",
            "Requirement already satisfied: fonttools>=4.22.0 in /usr/local/lib/python3.10/dist-packages (from matplotlib->captum) (4.54.1)\n",
            "Requirement already satisfied: kiwisolver>=1.0.1 in /usr/local/lib/python3.10/dist-packages (from matplotlib->captum) (1.4.7)\n",
            "Requirement already satisfied: packaging>=20.0 in /usr/local/lib/python3.10/dist-packages (from matplotlib->captum) (24.1)\n",
            "Requirement already satisfied: pillow>=6.2.0 in /usr/local/lib/python3.10/dist-packages (from matplotlib->captum) (10.4.0)\n",
            "Requirement already satisfied: pyparsing>=2.3.1 in /usr/local/lib/python3.10/dist-packages (from matplotlib->captum) (3.2.0)\n",
            "Requirement already satisfied: python-dateutil>=2.7 in /usr/local/lib/python3.10/dist-packages (from matplotlib->captum) (2.8.2)\n",
            "Requirement already satisfied: six>=1.5 in /usr/local/lib/python3.10/dist-packages (from python-dateutil>=2.7->matplotlib->captum) (1.16.0)\n",
            "Requirement already satisfied: MarkupSafe>=2.0 in /usr/local/lib/python3.10/dist-packages (from jinja2->torch>=1.6->captum) (3.0.2)\n",
            "Downloading captum-0.7.0-py3-none-any.whl (1.3 MB)\n",
            "\u001b[?25l   \u001b[90m━━━━━━━━━━━━━━━━━━━━━━━━━━━━━━━━━━━━━━━━\u001b[0m \u001b[32m0.0/1.3 MB\u001b[0m \u001b[31m?\u001b[0m eta \u001b[36m-:--:--\u001b[0m\r\u001b[2K   \u001b[91m━━━━━━━━━━━━━━━━━━━━\u001b[0m\u001b[91m╸\u001b[0m\u001b[90m━━━━━━━━━━━━━━━━━━━\u001b[0m \u001b[32m0.7/1.3 MB\u001b[0m \u001b[31m20.5 MB/s\u001b[0m eta \u001b[36m0:00:01\u001b[0m\r\u001b[2K   \u001b[90m━━━━━━━━━━━━━━━━━━━━━━━━━━━━━━━━━━━━━━━━\u001b[0m \u001b[32m1.3/1.3 MB\u001b[0m \u001b[31m23.7 MB/s\u001b[0m eta \u001b[36m0:00:00\u001b[0m\n",
            "\u001b[?25hInstalling collected packages: captum\n",
            "Successfully installed captum-0.7.0\n",
            "Alcohol Attribution: 0.2846\n",
            "Citric Acid Attribution: -2.0951\n"
          ]
        }
      ]
    },
    {
      "cell_type": "code",
      "source": [
        "import matplotlib.pyplot as plt\n",
        "import numpy as np\n",
        "\n",
        "# Compute attributions for all validation samples\n",
        "alcohol_attributions = []\n",
        "citric_acid_attributions = []\n",
        "\n",
        "for i in range(len(val_features)):\n",
        "    attributions = compute_integrated_gradients(model, val_features[i:i+1], baseline_input, target=val_labels[i].item())\n",
        "    alcohol_attributions.append(attributions[0, alcohol_index].item())\n",
        "    citric_acid_attributions.append(attributions[0, citric_acid_index].item())\n",
        "\n",
        "# Statistical test\n",
        "from scipy.stats import ttest_ind\n",
        "\n",
        "t_stat, p_value = ttest_ind(alcohol_attributions, citric_acid_attributions)\n",
        "print(f\"T-statistic: {t_stat:.4f}, P-value: {p_value:.4f}\")\n",
        "\n",
        "# Visualization\n",
        "plt.figure(figsize=(10, 6))\n",
        "plt.boxplot([alcohol_attributions, citric_acid_attributions], labels=['Alcohol Content', 'Citric Acid'])\n",
        "plt.title('Attributions for Alcohol Content and Citric Acid')\n",
        "plt.ylabel('Attribution Value')\n",
        "plt.show()\n"
      ],
      "metadata": {
        "id": "lp8GoCYKSyKd",
        "outputId": "38ddd7df-9fa5-46e9-9b3d-1f97238e0947",
        "colab": {
          "base_uri": "https://localhost:8080/",
          "height": 563
        }
      },
      "execution_count": null,
      "outputs": [
        {
          "output_type": "stream",
          "name": "stdout",
          "text": [
            "T-statistic: 8.1844, P-value: 0.0000\n"
          ]
        },
        {
          "output_type": "display_data",
          "data": {
            "text/plain": [
              "<Figure size 1000x600 with 1 Axes>"
            ],
            "image/png": "[encoded data removed]"
          },
          "metadata": {}
        }
      ]
    },
    {
      "cell_type": "markdown",
      "source": [
        "# Brief Explanation of the approach\n",
        "I trained a three-layer neural network on the Wine Quality dataset from the UCI Machine Learning Repository. The dataset consists of physicochemical features like alcohol content and citric acid, which are used to predict the quality rating of wine on a scale from 0 to 9. I then prerocessed and standardized the data and I split the dataset into training and validation sets. The training loop optimized the model using cross-entropy loss and the Adam optimizer, achieving a validation accuracy of approximately 60%. I then used the model for Integrated Gradients attribution calculations.\n",
        "\n",
        "# Visualization\n",
        "I created a boxplot to visualize the findings. The boxplot shows that the attributions for Alcohol Content and Citric Acid do not overlap. The median for Alcohol Content is significantly higher than the median for Citric Acid and there is a difference in the variability interquartile range of the attributions between the two features. These observations suggest that there is a statistically significant difference in the way these two features contribute to the model's predictions. Further, the relatively larger t statistic and the p value = 0, show that there is definitely a difference in how the variables contribute to the output.\n",
        "\n",
        "## THE HYPOTHESIS\n",
        "Based on my results,I must reject the null hypothesis\n",
        "\n",
        "\n",
        "# SUMMARY OF FINDINGS:\n",
        "The integrated gradients attributions for \"Alcohol Content\" and \"Citric Acid\" differ significantly. This difference suggests that these two features have different impacts on predicting wine quality. Therefore, I reject the null hypothesis , i.e,  there is no significant difference  in the integrated gradients attributions  for the features \"alcohol content\" and \"citric acid\" and accept the alternative hypothesis which states that that there is a significant difference."
      ],
      "metadata": {
        "id": "34Vbju_Mie_8"
      }
    },
    {
      "cell_type": "markdown",
      "source": [
        "# Sources\n",
        "I used the help of generative AI for the boxplot and for helping me build the model"
      ],
      "metadata": {
        "id": "yp1MEYH4o7FR"
      }
    }
  ],
  "metadata": {
    "colab": {
      "provenance": [],
      "gpuType": "T4",
      "include_colab_link": true
    },
    "kernelspec": {
      "display_name": "Python 3",
      "name": "python3"
    },
    "language_info": {
      "name": "python"
    },
    "accelerator": "GPU"
  },
  "nbformat": 4,
  "nbformat_minor": 0
}